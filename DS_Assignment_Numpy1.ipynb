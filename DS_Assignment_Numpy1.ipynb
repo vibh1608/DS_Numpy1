{
 "cells": [
  {
   "cell_type": "code",
   "execution_count": 1,
   "metadata": {},
   "outputs": [
    {
     "name": "stdout",
     "output_type": "stream",
     "text": [
      "Enter the number of columns in the matrix3\n",
      "[[ 1  1  1]\n",
      " [ 4  2  1]\n",
      " [ 9  3  1]\n",
      " [25  5  1]]\n"
     ]
    }
   ],
   "source": [
    "#importing numpy library\n",
    "import numpy as np\n",
    "\n",
    "#Vandermonde matrix calculation function\n",
    "def AlexandreTheophileVandermonde(lst,N): \n",
    "    x = np.array(lst)\n",
    "    output_matrix = np.vander(x, N)\n",
    "    print(output_matrix)\n",
    "\n",
    "#1-D input array.\n",
    "input_lst = [1,2,3,5]\n",
    "\n",
    "#Number of columns in the output\n",
    "N = int(input(\"Enter the number of columns in the matrix\"))\n",
    "\n",
    "#calling the function\n",
    "AlexandreTheophileVandermonde(input_lst,N)\n",
    "\n",
    "\n"
   ]
  },
  {
   "cell_type": "code",
   "execution_count": null,
   "metadata": {},
   "outputs": [],
   "source": []
  }
 ],
 "metadata": {
  "kernelspec": {
   "display_name": "Python 3",
   "language": "python",
   "name": "python3"
  },
  "language_info": {
   "codemirror_mode": {
    "name": "ipython",
    "version": 3
   },
   "file_extension": ".py",
   "mimetype": "text/x-python",
   "name": "python",
   "nbconvert_exporter": "python",
   "pygments_lexer": "ipython3",
   "version": "3.7.0"
  }
 },
 "nbformat": 4,
 "nbformat_minor": 2
}
